{
 "cells": [
  {
   "cell_type": "markdown",
   "metadata": {},
   "source": [
    "# About\n",
    "\n",
    "### What is Jupyter/Anaconda?\n",
    "\n",
    "Anaconda is a platform for doing data science with that takes care of installing programming environments and packaging Integrated Development Environments (IDEs), whether that be RStudio or Jupyter Notebooks/Lab. The wider Jupyter tools (e.g. <a href=\"\">Jupyter Hub</a>) also make it easier to host individual coding environments. This allows people to start learning about coding for spatial analytics straight away, rather than how to set up the environment (which is covered in a parallel module) \n",
    "\n",
    "For those who do wish to \n",
    "\n",
    "<br>\n",
    "\n",
    "### The ESDA Course\n",
    "\n",
    "The Energy Systems and Data Analytics MSc (ESDA MSc) is the first programme of its kind in the UK, combining the study of Energy Systems with Data Science. ESDA students gain a multi-sector, multi-vector understanding of Energy Systems, while developing advanced statistical and machine learning skills and getting practical experience of data analysis.\n",
    "\n",
    "The programme is aimed at students with a quantitative background who have an interest in energy and are motivated by the use of data science to solve sustainability problems. They will gain skills sought after by industry allowing you to become a leader and innovator in the energy sector, from established large scale utilities and data science companies to innovative new start-ups.\n",
    "\n",
    "This advanced degree programme is designed to provide a broad understanding of energy systems, statistics, programming, energy use in the built environment, energy use in the transport sector and the role of data and advanced analytics in solving relevant sustainability problems.\n",
    "\n",
    "Further information on the course can be found <a href=\"https://www.ucl.ac.uk/bartlett/energy/study/energy-systems-and-data-analytics-msc\">here</a>\n",
    "\n",
    "<video controls src=\"https://esda-spatial.s3.eu-west-2.amazonaws.com/Studying+Energy+Systems+and+Data+Analytics+at+UCL.mp4\" />"
   ]
  },
  {
   "cell_type": "code",
   "execution_count": null,
   "metadata": {},
   "outputs": [],
   "source": []
  }
 ],
 "metadata": {
  "kernelspec": {
   "display_name": "ESDA-Spatial",
   "language": "R",
   "name": "ir"
  },
  "language_info": {
   "codemirror_mode": "r",
   "file_extension": ".r",
   "mimetype": "text/x-r-source",
   "name": "R",
   "pygments_lexer": "r",
   "version": "3.6.1"
  }
 },
 "nbformat": 4,
 "nbformat_minor": 4
}
