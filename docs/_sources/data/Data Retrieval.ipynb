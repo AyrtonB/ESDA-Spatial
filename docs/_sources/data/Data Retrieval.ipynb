{
 "cells": [
  {
   "cell_type": "markdown",
   "metadata": {},
   "source": []
  },
  {
   "cell_type": "code",
   "execution_count": 24,
   "metadata": {},
   "outputs": [
    {
     "data": {
      "text/html": [
       "'C:/Users/Ayrto/Desktop/PhD/PGTA/Spatial/tutorials/ESDA-Spatial/data'"
      ],
      "text/latex": [
       "'C:/Users/Ayrto/Desktop/PhD/PGTA/Spatial/tutorials/ESDA-Spatial/data'"
      ],
      "text/markdown": [
       "'C:/Users/Ayrto/Desktop/PhD/PGTA/Spatial/tutorials/ESDA-Spatial/data'"
      ],
      "text/plain": [
       "[1] \"C:/Users/Ayrto/Desktop/PhD/PGTA/Spatial/tutorials/ESDA-Spatial/data\""
      ]
     },
     "metadata": {},
     "output_type": "display_data"
    }
   ],
   "source": [
    "get_data_dir <- function(){\n",
    "    cwd <- getwd()\n",
    "    repo_root_dir <- gsub('(ESDA-Spatial).*', '\\\\1', cwd)\n",
    "    data_dir <- paste(repo_root_dir, 'data', sep='/')\n",
    "    \n",
    "    using_binder <- grepl('/home/jovyan', data_dir, fixed=TRUE)\n",
    "    \n",
    "    if (using_binder) {\n",
    "        data_dir <- '/home/jovyan/data'\n",
    "    }\n",
    "\n",
    "    return(data_dir)    \n",
    "}\n",
    "\n",
    "data_dir <- get_data_dir()\n",
    "\n",
    "data_dir"
   ]
  },
  {
   "cell_type": "code",
   "execution_count": null,
   "metadata": {},
   "outputs": [],
   "source": []
  },
  {
   "cell_type": "code",
   "execution_count": 5,
   "metadata": {},
   "outputs": [],
   "source": [
    "retrieve_zip <- function(url, dir){\n",
    "    temp_shapefile <- tempfile()\n",
    "    download.file(url, temp_shapefile)\n",
    "    unzip(temp_shapefile, exdir=dir)\n",
    "}\n",
    "\n",
    "zambia_url <- 'https://esda-spatial.s3.eu-west-2.amazonaws.com/zambia.zip'\n",
    "zambia_dir <- paste(data_dir, 'zambia', sep='/')\n",
    "\n",
    "retrieve_zip(zambia_url, zambia_dir)"
   ]
  },
  {
   "cell_type": "code",
   "execution_count": null,
   "metadata": {},
   "outputs": [],
   "source": []
  },
  {
   "cell_type": "code",
   "execution_count": 21,
   "metadata": {},
   "outputs": [],
   "source": [
    "get_path_to_obj <- function(data_dir){\n",
    "    path_to_obj <- vector(mode='list', length=2)\n",
    "    \n",
    "    names(path_to_obj) <- c(\n",
    "        paste(data_dir, 'zambia', sep='/'),\n",
    "        paste(data_dir, 'africa', sep='/')\n",
    "    )\n",
    "\n",
    "    path_to_obj[[1]] <- 'https://esda-spatial.s3.eu-west-2.amazonaws.com/zambia.zip'\n",
    "    path_to_obj[[2]] <- 'https://esda-spatial.s3.eu-west-2.amazonaws.com/africa.zip'\n",
    "    \n",
    "    return(path_to_obj)\n",
    "}\n",
    "\n",
    "download_data <- function(data_dir){\n",
    "    data_dir <- get_data_dir()\n",
    "    path_to_obj <- get_path_to_obj(data_dir)\n",
    "    filepaths <- names(path_to_obj)\n",
    "\n",
    "    for(i in seq_along(path_to_obj)) {\n",
    "        dir <- filepaths[i]\n",
    "        obj <- toString(path_to_obj[i])\n",
    "\n",
    "        if (!dir.exists(dir)) {\n",
    "            retrieve_zip(obj, dir)\n",
    "        }\n",
    "    }\n",
    "}\n",
    "\n",
    "download_data()"
   ]
  },
  {
   "cell_type": "code",
   "execution_count": null,
   "metadata": {},
   "outputs": [],
   "source": []
  },
  {
   "cell_type": "code",
   "execution_count": 23,
   "metadata": {},
   "outputs": [
    {
     "data": {
      "image/png": "[encoded data removed]",
      "text/plain": []
     },
     "metadata": {
      "image/png": {
       "height": 420,
       "width": 420
      }
     },
     "output_type": "display_data"
    }
   ],
   "source": [
    "library(sf)\n",
    "\n",
    "zambia_shp <- paste(zambia_dir, 'zambia.shp', sep='/')\n",
    "df_country <- read_sf(zambia_shp)\n",
    "\n",
    "plot(df_country['geometry'], col='orange')"
   ]
  },
  {
   "cell_type": "code",
   "execution_count": null,
   "metadata": {},
   "outputs": [],
   "source": []
  },
  {
   "cell_type": "code",
   "execution_count": null,
   "metadata": {},
   "outputs": [],
   "source": []
  },
  {
   "cell_type": "code",
   "execution_count": null,
   "metadata": {},
   "outputs": [],
   "source": []
  },
  {
   "cell_type": "code",
   "execution_count": null,
   "metadata": {},
   "outputs": [],
   "source": []
  },
  {
   "cell_type": "code",
   "execution_count": null,
   "metadata": {},
   "outputs": [],
   "source": []
  }
 ],
 "metadata": {
  "kernelspec": {
   "display_name": "ESDA-Spatial",
   "language": "R",
   "name": "ir"
  },
  "language_info": {
   "codemirror_mode": "r",
   "file_extension": ".r",
   "mimetype": "text/x-r-source",
   "name": "R",
   "pygments_lexer": "r",
   "version": "3.6.1"
  }
 },
 "nbformat": 4,
 "nbformat_minor": 4
}
