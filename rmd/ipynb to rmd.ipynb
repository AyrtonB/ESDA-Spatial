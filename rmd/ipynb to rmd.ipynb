{
 "cells": [
  {
   "cell_type": "markdown",
   "metadata": {},
   "source": [
    "# Converting IPython Notebooks to R-Markdown\n",
    "\n",
    "<br>\n",
    "\n",
    "### Imports"
   ]
  },
  {
   "cell_type": "code",
   "execution_count": 1,
   "metadata": {},
   "outputs": [],
   "source": [
    "library(rmarkdown)"
   ]
  },
  {
   "cell_type": "markdown",
   "metadata": {},
   "source": [
    "<br>\n",
    "\n",
    "### Inspecting Available Tutorials"
   ]
  },
  {
   "cell_type": "code",
   "execution_count": 5,
   "metadata": {},
   "outputs": [
    {
     "data": {
      "text/html": [
       "<ol class=list-inline>\n",
       "\t<li>'03) Working with Vector Data.ipynb'</li>\n",
       "\t<li>'04) Working with Raster Data.ipynb'</li>\n",
       "\t<li>'05) Spatial Interpolation.ipynb'</li>\n",
       "\t<li>'06) Spatial Statistical Analysis.ipynb'</li>\n",
       "</ol>\n"
      ],
      "text/latex": [
       "\\begin{enumerate*}\n",
       "\\item '03) Working with Vector Data.ipynb'\n",
       "\\item '04) Working with Raster Data.ipynb'\n",
       "\\item '05) Spatial Interpolation.ipynb'\n",
       "\\item '06) Spatial Statistical Analysis.ipynb'\n",
       "\\end{enumerate*}\n"
      ],
      "text/markdown": [
       "1. '03) Working with Vector Data.ipynb'\n",
       "2. '04) Working with Raster Data.ipynb'\n",
       "3. '05) Spatial Interpolation.ipynb'\n",
       "4. '06) Spatial Statistical Analysis.ipynb'\n",
       "\n",
       "\n"
      ],
      "text/plain": [
       "[1] \"03) Working with Vector Data.ipynb\"    \n",
       "[2] \"04) Working with Raster Data.ipynb\"    \n",
       "[3] \"05) Spatial Interpolation.ipynb\"       \n",
       "[4] \"06) Spatial Statistical Analysis.ipynb\""
      ]
     },
     "metadata": {},
     "output_type": "display_data"
    }
   ],
   "source": [
    "tutorial_dir <- '../tutorials'\n",
    "tutorial_files <- list.files(tutorial_dir)\n",
    "\n",
    "tutorial_files"
   ]
  },
  {
   "cell_type": "markdown",
   "metadata": {},
   "source": [
    "<br>\n",
    "\n",
    "### Converting them to R-Markdown"
   ]
  },
  {
   "cell_type": "code",
   "execution_count": 32,
   "metadata": {},
   "outputs": [
    {
     "ename": "ERROR",
     "evalue": "Error in convert_ipynb(input_fp, output_fp): could not find function \"convert_ipynb\"\n",
     "output_type": "error",
     "traceback": [
      "Error in convert_ipynb(input_fp, output_fp): could not find function \"convert_ipynb\"\nTraceback:\n"
     ]
    }
   ],
   "source": [
    "for (tutorial_file in tutorial_files)\n",
    "{\n",
    "    input_fp <- paste(tutorial_dir, tutorial_file, sep='/')\n",
    "    output_fp <- paste(strsplit(tutorial_file, '.ipynb'), 'rmd', sep='.')\n",
    "    \n",
    "    convert_ipynb(input_fp, output_fp)\n",
    "}"
   ]
  }
 ],
 "metadata": {
  "kernelspec": {
   "display_name": "ESDA-Spatial",
   "language": "R",
   "name": "ir"
  },
  "language_info": {
   "codemirror_mode": "r",
   "file_extension": ".r",
   "mimetype": "text/x-r-source",
   "name": "R",
   "pygments_lexer": "r",
   "version": "3.6.1"
  }
 },
 "nbformat": 4,
 "nbformat_minor": 4
}
