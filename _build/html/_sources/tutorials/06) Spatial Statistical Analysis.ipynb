{
 "cells": [
  {
   "cell_type": "markdown",
   "metadata": {},
   "source": [
    "# Spatial Interpolation\n",
    "\n",
    "<br>\n",
    "\n",
    "\n",
    "\n",
    "<br>\n",
    "\n",
    "## Analysis Preparation\n",
    "\n",
    "### Imports\n",
    "\n",
    "All of these libraries should have been previously installed during the environment set-up, if they have not been installed already you can use ```install.packages(c(\"sf\", \"ggplot2\"))```"
   ]
  },
  {
   "cell_type": "code",
   "execution_count": 1,
   "metadata": {},
   "outputs": [
    {
     "name": "stdout",
     "output_type": "stream",
     "text": [
      "package 'sp' successfully unpacked and MD5 sums checked\n",
      "\n",
      "The downloaded binary packages are in\n",
      "\tC:\\Users\\Ayrto\\AppData\\Local\\Temp\\RtmpqICz71\\downloaded_packages\n"
     ]
    },
    {
     "name": "stderr",
     "output_type": "stream",
     "text": [
      "Warning message:\n",
      "\"package 'sf' was built under R version 3.6.3\"Linking to GEOS 3.8.0, GDAL 3.0.4, PROJ 6.3.1\n",
      "Warning message:\n",
      "\"package 'stars' was built under R version 3.6.3\"Loading required package: abind\n",
      "\n",
      "Attaching package: 'dplyr'\n",
      "\n",
      "The following objects are masked from 'package:stats':\n",
      "\n",
      "    filter, lag\n",
      "\n",
      "The following objects are masked from 'package:base':\n",
      "\n",
      "    intersect, setdiff, setequal, union\n",
      "\n",
      "Loading required package: sp\n",
      "Warning message:\n",
      "\"package 'sp' was built under R version 3.6.3\"\n",
      "Attaching package: 'raster'\n",
      "\n",
      "The following object is masked from 'package:dplyr':\n",
      "\n",
      "    select\n",
      "\n",
      "Registered S3 methods overwritten by 'ggplot2':\n",
      "  method         from \n",
      "  [.quosures     rlang\n",
      "  c.quosures     rlang\n",
      "  print.quosures rlang\n"
     ]
    }
   ],
   "source": [
    "library(sf) # for handling spatial features\n",
    "library(dplyr) # used for data manipulation\n",
    "library(raster) # useful in some spatial operations\n",
    "library(ggplot2) # for plotting\n",
    "library(zeallot) # used for unpacking variables\n",
    "\n",
    "source('../scripts/helpers.R') # helper script, note that '../' is used to change into the directory above the directory this notebook is in"
   ]
  },
  {
   "cell_type": "markdown",
   "metadata": {},
   "source": [
    "<br>\n",
    "\n",
    "### Loading Data\n",
    "\n",
    "We'll start by again checking to see if we need to download any data"
   ]
  },
  {
   "cell_type": "code",
   "execution_count": 2,
   "metadata": {},
   "outputs": [],
   "source": [
    "download_data()"
   ]
  }
 ],
 "metadata": {
  "kernelspec": {
   "display_name": "R",
   "language": "R",
   "name": "ir"
  },
  "language_info": {
   "codemirror_mode": "r",
   "file_extension": ".r",
   "mimetype": "text/x-r-source",
   "name": "R",
   "pygments_lexer": "r",
   "version": "4.0.2"
  }
 },
 "nbformat": 4,
 "nbformat_minor": 4
}
