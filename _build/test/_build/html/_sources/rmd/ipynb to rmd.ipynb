{
 "cells": [
  {
   "cell_type": "markdown",
   "metadata": {},
   "source": [
    "# Converting IPython Notebooks to R-Markdown\n",
    "\n",
    "<br>\n",
    "\n",
    "### Imports"
   ]
  },
  {
   "cell_type": "code",
   "execution_count": 1,
   "metadata": {},
   "outputs": [],
   "source": [
    "library(rmarkdown)"
   ]
  },
  {
   "cell_type": "markdown",
   "metadata": {},
   "source": [
    "<br>\n",
    "\n",
    "### Inspecting Available Tutorials"
   ]
  },
  {
   "cell_type": "code",
   "execution_count": 2,
   "metadata": {},
   "outputs": [
    {
     "data": {
      "text/html": [
       "<style>\n",
       ".list-inline {list-style: none; margin:0; padding: 0}\n",
       ".list-inline>li {display: inline-block}\n",
       ".list-inline>li:not(:last-child)::after {content: \"\\00b7\"; padding: 0 .5ex}\n",
       "</style>\n",
       "<ol class=list-inline><li>'03) Working with Vector Data.ipynb'</li><li>'04) Working with Raster Data.ipynb'</li><li>'05) Spatial Interpolation.ipynb'</li><li>'06) Spatial Statistical Analysis.ipynb'</li></ol>\n"
      ],
      "text/latex": [
       "\\begin{enumerate*}\n",
       "\\item '03) Working with Vector Data.ipynb'\n",
       "\\item '04) Working with Raster Data.ipynb'\n",
       "\\item '05) Spatial Interpolation.ipynb'\n",
       "\\item '06) Spatial Statistical Analysis.ipynb'\n",
       "\\end{enumerate*}\n"
      ],
      "text/markdown": [
       "1. '03) Working with Vector Data.ipynb'\n",
       "2. '04) Working with Raster Data.ipynb'\n",
       "3. '05) Spatial Interpolation.ipynb'\n",
       "4. '06) Spatial Statistical Analysis.ipynb'\n",
       "\n",
       "\n"
      ],
      "text/plain": [
       "[1] \"03) Working with Vector Data.ipynb\"    \n",
       "[2] \"04) Working with Raster Data.ipynb\"    \n",
       "[3] \"05) Spatial Interpolation.ipynb\"       \n",
       "[4] \"06) Spatial Statistical Analysis.ipynb\""
      ]
     },
     "metadata": {},
     "output_type": "display_data"
    }
   ],
   "source": [
    "tutorial_dir <- '../tutorials'\n",
    "tutorial_files <- list.files(tutorial_dir)\n",
    "\n",
    "tutorial_files"
   ]
  },
  {
   "cell_type": "markdown",
   "metadata": {},
   "source": [
    "<br>\n",
    "\n",
    "### Converting them to R-Markdown"
   ]
  },
  {
   "cell_type": "code",
   "execution_count": 4,
   "metadata": {},
   "outputs": [],
   "source": [
    "for (tutorial_file in tutorial_files)\n",
    "{\n",
    "    input_fp <- paste(tutorial_dir, tutorial_file, sep='/')\n",
    "    output_fp <- paste(strsplit(tutorial_file, '.ipynb'), 'rmd', sep='.')\n",
    "    \n",
    "    rmarkdown:::convert_ipynb(input_fp, output_fp)\n",
    "}"
   ]
  }
 ],
 "metadata": {
  "kernelspec": {
   "display_name": "R",
   "language": "R",
   "name": "ir"
  },
  "language_info": {
   "codemirror_mode": "r",
   "file_extension": ".r",
   "mimetype": "text/x-r-source",
   "name": "R",
   "pygments_lexer": "r",
   "version": "4.0.2"
  }
 },
 "nbformat": 4,
 "nbformat_minor": 4
}
