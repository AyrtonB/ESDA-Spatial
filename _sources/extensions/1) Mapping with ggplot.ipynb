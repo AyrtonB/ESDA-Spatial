{
 "cells": [
  {
   "cell_type": "markdown",
   "metadata": {},
   "source": [
    "<br>\n",
    "\n",
    "# Mapping with ggplot\n",
    "\n",
    "This document outlines a number of extension areas related to plotting spatial data in ggplot.\n",
    "\n",
    "### Imports"
   ]
  },
  {
   "cell_type": "code",
   "execution_count": 1,
   "metadata": {},
   "outputs": [
    {
     "name": "stderr",
     "output_type": "stream",
     "text": [
      "Warning message:\n",
      "\"package 'sf' was built under R version 3.6.3\"\n",
      "Linking to GEOS 3.8.0, GDAL 3.0.4, PROJ 6.3.1\n",
      "\n",
      "Registered S3 methods overwritten by 'ggplot2':\n",
      "  method         from \n",
      "  [.quosures     rlang\n",
      "  c.quosures     rlang\n",
      "  print.quosures rlang\n",
      "\n",
      "Warning message:\n",
      "\"package 'zeallot' was built under R version 3.6.3\"\n"
     ]
    }
   ],
   "source": [
    "library(sf)\n",
    "library(ggplot2)\n",
    "library(zeallot)\n",
    "\n",
    "source('../scripts/helpers.R') "
   ]
  },
  {
   "cell_type": "markdown",
   "metadata": {},
   "source": [
    "<br>\n",
    "\n",
    "### Loading Example Data\n",
    "\n"
   ]
  },
  {
   "cell_type": "code",
   "execution_count": 2,
   "metadata": {},
   "outputs": [],
   "source": [
    "df_country <- read_sf('../data/zambia/zambia.shp')\n",
    "df_africa_cities <- read_sf('../data/africa/cities.shp')"
   ]
  },
  {
   "cell_type": "markdown",
   "metadata": {},
   "source": [
    "<br>\n",
    "\n",
    "### Identifying Spatial Plotting Limits\n",
    "\n",
    "Earlier in this tutorial we had to specify axis limits in order to reduce the area of Africa plotted. In that example we hardcoded the values, but how did we arrive at those values? and how could we automate this process in the future?\n",
    "\n",
    "First we'll create a function that takes a spatial dataframe and returns the min and max values from the x and y coordinates."
   ]
  },
  {
   "cell_type": "code",
   "execution_count": 3,
   "metadata": {},
   "outputs": [
    {
     "data": {
      "text/html": [
       "<ol class=list-inline>\n",
       "\t<li>-42815.5985999211</li>\n",
       "\t<li>1235177.17306073</li>\n",
       "\t<li>8001294.45875233</li>\n",
       "\t<li>9089236.26327303</li>\n",
       "</ol>\n"
      ],
      "text/latex": [
       "\\begin{enumerate*}\n",
       "\\item -42815.5985999211\n",
       "\\item 1235177.17306073\n",
       "\\item 8001294.45875233\n",
       "\\item 9089236.26327303\n",
       "\\end{enumerate*}\n"
      ],
      "text/markdown": [
       "1. -42815.5985999211\n",
       "2. 1235177.17306073\n",
       "3. 8001294.45875233\n",
       "4. 9089236.26327303\n",
       "\n",
       "\n"
      ],
      "text/plain": [
       "[1]  -42815.6 1235177.2 8001294.5 9089236.3"
      ]
     },
     "metadata": {},
     "output_type": "display_data"
    }
   ],
   "source": [
    "get_geo_df_limits <- function(df){\n",
    "    # Extracting x/y coordinates\n",
    "    df_coords <- st_coordinates(df)\n",
    "    \n",
    "    # Separating x/y coordinates\n",
    "    x_vals <- df_coords[, 1]\n",
    "    y_vals <- df_coords[, 2]\n",
    "\n",
    "    # Identifying the limits of x/y\n",
    "    min_x <- min(x_vals)\n",
    "    max_x <- max(x_vals)\n",
    "    min_y <- min(y_vals)\n",
    "    max_y <- max(y_vals)\n",
    "    \n",
    "    limits <- c(min_x, max_x, min_y, max_y)\n",
    "    \n",
    "    return(limits)\n",
    "}\n",
    "\n",
    "geo_df_limits <- get_geo_df_limits(df_country)\n",
    "\n",
    "geo_df_limits"
   ]
  },
  {
   "cell_type": "markdown",
   "metadata": {},
   "source": [
    "<br>\n",
    "\n",
    "But what should we do when we want to use the limits from one dataframe, whilst plotting it alongside another dataframe that's in a different coordinate system?\n",
    "\n",
    "We'll start by extracting the limits again."
   ]
  },
  {
   "cell_type": "code",
   "execution_count": 4,
   "metadata": {},
   "outputs": [
    {
     "data": {
      "text/html": [
       "<ol class=list-inline>\n",
       "\t<li>-25.1000003814124</li>\n",
       "\t<li>63.4700012209796</li>\n",
       "\t<li>-34.5333328250498</li>\n",
       "\t<li>37.2744445798535</li>\n",
       "</ol>\n"
      ],
      "text/latex": [
       "\\begin{enumerate*}\n",
       "\\item -25.1000003814124\n",
       "\\item 63.4700012209796\n",
       "\\item -34.5333328250498\n",
       "\\item 37.2744445798535\n",
       "\\end{enumerate*}\n"
      ],
      "text/markdown": [
       "1. -25.1000003814124\n",
       "2. 63.4700012209796\n",
       "3. -34.5333328250498\n",
       "4. 37.2744445798535\n",
       "\n",
       "\n"
      ],
      "text/plain": [
       "[1] -25.10000  63.47000 -34.53333  37.27444"
      ]
     },
     "metadata": {},
     "output_type": "display_data"
    }
   ],
   "source": [
    "geo_df_limits <- get_geo_df_limits(df_africa_cities)\n",
    "\n",
    "geo_df_limits"
   ]
  },
  {
   "cell_type": "markdown",
   "metadata": {},
   "source": [
    "<br>\n",
    "\n",
    "Then we can write another function that will convert these limit coordinates from one crs into another.\n",
    "\n",
    "N.b. normally a bounding box (bbox) refers to a Polygon or Linestring where the vertices are the corners of the bbox. In this example we refer to bbox corners as only the top right and bottom left corners, this is because for a rectangular bbox they can be used to define the full shape."
   ]
  },
  {
   "cell_type": "code",
   "execution_count": 5,
   "metadata": {},
   "outputs": [
    {
     "data": {
      "text/html": [
       "<ol class=list-inline>\n",
       "\t<li>-4449293.37107226</li>\n",
       "\t<li>3780758.55048383</li>\n",
       "\t<li>4648881.200218</li>\n",
       "\t<li>14811141.9057182</li>\n",
       "</ol>\n"
      ],
      "text/latex": [
       "\\begin{enumerate*}\n",
       "\\item -4449293.37107226\n",
       "\\item 3780758.55048383\n",
       "\\item 4648881.200218\n",
       "\\item 14811141.9057182\n",
       "\\end{enumerate*}\n"
      ],
      "text/markdown": [
       "1. -4449293.37107226\n",
       "2. 3780758.55048383\n",
       "3. 4648881.200218\n",
       "4. 14811141.9057182\n",
       "\n",
       "\n"
      ],
      "text/plain": [
       "[1] -4449293  3780759  4648881 14811142"
      ]
     },
     "metadata": {},
     "output_type": "display_data"
    }
   ],
   "source": [
    "transform_bbox_corner_crs <- function(min_x_in, max_x_in, \n",
    "                                      min_y_in, max_y_in, \n",
    "                                      crs_in, crs_out) {\n",
    "    \n",
    "    bottom_left <- st_point(c(min_x_in, min_y_in))\n",
    "    top_right <- st_point(c(max_x_in, max_y_in))\n",
    "\n",
    "    bbox_corners_in <- st_sfc(bottom_left, top_right, crs=crs_in)\n",
    "    bbox_corners_out <- st_transform(bbox_corners_in, crs=crs_out)\n",
    "    \n",
    "    df_bbox_out <- st_coordinates(bbox_corners_out)\n",
    "\n",
    "    min_x_out <- df_bbox_out[1, 1]\n",
    "    max_x_out <- df_bbox_out[2, 1]\n",
    "    min_y_out <- df_bbox_out[1, 2]\n",
    "    max_y_out <- df_bbox_out[2, 2]\n",
    "    \n",
    "    return(c(min_x_out, max_x_out, min_y_out, max_y_out))\n",
    "}\n",
    "\n",
    "c(min_x_in, max_x_in, min_y_in, max_y_in) %<-% geo_df_limits\n",
    "\n",
    "crs_in <- 4326\n",
    "crs_out <- 20935\n",
    "    \n",
    "out_coords <- transform_bbox_corner_crs(min_x_in, max_x_in, \n",
    "                                        min_y_in, max_y_in, \n",
    "                                        crs_in, crs_out)\n",
    "\n",
    "out_coords"
   ]
  },
  {
   "cell_type": "markdown",
   "metadata": {},
   "source": [
    "<br>\n",
    "\n",
    "We can now use these coordinates to define the ggplot plotting limits"
   ]
  },
  {
   "cell_type": "code",
   "execution_count": 6,
   "metadata": {},
   "outputs": [
    {
     "data": {
      "text/plain": [
       "<ggproto object: Class CoordSf, CoordCartesian, Coord, gg>\n",
       "    aspect: function\n",
       "    backtransform_range: function\n",
       "    clip: on\n",
       "    crs: NULL\n",
       "    datum: crs\n",
       "    default: FALSE\n",
       "    distance: function\n",
       "    expand: TRUE\n",
       "    fixup_graticule_labels: function\n",
       "    is_free: function\n",
       "    is_linear: function\n",
       "    label_axes: list\n",
       "    label_graticule: \n",
       "    labels: function\n",
       "    limits: list\n",
       "    modify_scales: function\n",
       "    ndiscr: 100\n",
       "    range: function\n",
       "    render_axis_h: function\n",
       "    render_axis_v: function\n",
       "    render_bg: function\n",
       "    render_fg: function\n",
       "    setup_data: function\n",
       "    setup_layout: function\n",
       "    setup_panel_params: function\n",
       "    setup_params: function\n",
       "    transform: function\n",
       "    super:  <ggproto object: Class CoordSf, CoordCartesian, Coord, gg>"
      ]
     },
     "metadata": {},
     "output_type": "display_data"
    }
   ],
   "source": [
    "c(min_x_out, max_x_out, min_y_out, max_y_out) %<-% out_coords\n",
    "\n",
    "coord_lims <- coord_sf(xlim=c(min_x_out, max_x_out), \n",
    "                       ylim=c(min_y_out, max_y_out))\n",
    "\n",
    "coord_lims"
   ]
  },
  {
   "cell_type": "markdown",
   "metadata": {},
   "source": [
    "<br>\n",
    "\n",
    "Putting this all together we'll write a single function that accepts a dataframe, extracts its x/y limits, optionally converts them into a new CRS, then finally generates ggplot coordinate limits from them."
   ]
  },
  {
   "cell_type": "code",
   "execution_count": 7,
   "metadata": {},
   "outputs": [
    {
     "data": {
      "image/png": "[encoded data removed]",
      "text/plain": [
       "plot without title"
      ]
     },
     "metadata": {
      "image/png": {
       "height": 420,
       "width": 420
      }
     },
     "output_type": "display_data"
    }
   ],
   "source": [
    "get_geo_df_plot_lims <- function(df, crs_out=NA){\n",
    "    # Identify limits\n",
    "    geo_df_limits <- get_geo_df_limits(df)\n",
    "    c(min_x_out, max_x_out, min_y_out, max_y_out) %<-% geo_df_limits\n",
    "\n",
    "    # Optionally convert to new crs\n",
    "    if (!is.na(crs_out)) {\n",
    "        crs_in <- extract_epsg_from_df(df) %>%\n",
    "                    strtoi() %>%\n",
    "                    st_crs\n",
    "\n",
    "        out_coords <- transform_bbox_corner_crs(min_x_in, max_x_in, \n",
    "                                                min_y_in, max_y_in, \n",
    "                                                crs_in, crs_out)\n",
    "\n",
    "        c(min_x_out, max_x_out, min_y_out, max_y_out) %<-% out_coords\n",
    "    }\n",
    "\n",
    "    # Convert to ggplot2 coordinate limits\n",
    "    coord_lims <- coord_sf(xlim=c(min_x_out, max_x_out), \n",
    "                           ylim=c(min_y_out, max_y_out))\n",
    "    \n",
    "    return(coord_lims)\n",
    "}\n",
    "\n",
    "coord_lims <- get_geo_df_plot_lims(df_country)\n",
    "\n",
    "transparent_theme <- theme(\n",
    "    panel.grid.major = element_blank(), \n",
    "    panel.grid.minor = element_blank(),\n",
    "    panel.background = element_rect(fill='transparent', colour=NA),\n",
    "    plot.background = element_rect(fill='transparent', colour=NA)\n",
    ")\n",
    "\n",
    "ggplot() +\n",
    "    geom_sf(data=df_country, fill='antiquewhite') +\n",
    "    geom_sf(data=df_africa_cities, color='orange') + \n",
    "    coord_lims + \n",
    "    transparent_theme"
   ]
  },
  {
   "cell_type": "markdown",
   "metadata": {},
   "source": [
    "<br>\n",
    "\n",
    "We can now very quickly switch between different plotting views"
   ]
  },
  {
   "cell_type": "code",
   "execution_count": 8,
   "metadata": {},
   "outputs": [
    {
     "data": {
      "image/png": "[encoded data removed]",
      "text/plain": [
       "plot without title"
      ]
     },
     "metadata": {
      "image/png": {
       "height": 420,
       "width": 420
      }
     },
     "output_type": "display_data"
    }
   ],
   "source": [
    "coord_lims <- get_geo_df_plot_lims(df_africa_cities, crs_out=20935)\n",
    "\n",
    "ggplot() +\n",
    "    geom_sf(data=df_country, fill='green') +\n",
    "    geom_sf(data=df_africa_cities, color='orange') + \n",
    "    coord_lims + \n",
    "    transparent_theme"
   ]
  }
 ],
 "metadata": {
  "kernelspec": {
   "display_name": "R",
   "language": "R",
   "name": "ir"
  },
  "language_info": {
   "codemirror_mode": "r",
   "file_extension": ".r",
   "mimetype": "text/x-r-source",
   "name": "R",
   "pygments_lexer": "r",
   "version": "4.0.2"
  }
 },
 "nbformat": 4,
 "nbformat_minor": 4
}
