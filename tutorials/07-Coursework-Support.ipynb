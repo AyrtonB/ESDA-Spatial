{
 "cells": [
  {
   "cell_type": "markdown",
   "metadata": {},
   "source": [
    "# Coursework Support\n",
    "\n",
    "<br>\n",
    "\n",
    "### Imports"
   ]
  },
  {
   "cell_type": "code",
   "execution_count": 4,
   "metadata": {},
   "outputs": [],
   "source": [
    "library(RNetCDF)\n",
    "library(tidync)\n",
    "library(ncmeta)\n",
    "library(tidyverse)\n",
    "library(lubridate)\n",
    "library(ggplot2)"
   ]
  },
  {
   "cell_type": "markdown",
   "metadata": {},
   "source": [
    "<br>\n",
    "\n",
    "### Loading Data\n",
    "\n",
    "We'll begin by loading the NetCDF file using `tidync`. When we do so we retrieve both the values of the data-array it contains as well as the metadata that describes it. "
   ]
  },
  {
   "cell_type": "code",
   "execution_count": 2,
   "metadata": {},
   "outputs": [
    {
     "data": {
      "text/plain": [
       "\n",
       "Data Source (1): era5.nc ...\n",
       "\n",
       "Grids (4) <dimension family> : <associated variables> \n",
       "\n",
       "[1]   D0,D1,D2 : u10, v10, ssrd    **ACTIVE GRID** ( 745488  values per variable)\n",
       "[2]   D0       : longitude\n",
       "[3]   D1       : latitude\n",
       "[4]   D2       : time\n",
       "\n",
       "Dimensions 3 (all active): \n",
       "  \n",
       "  dim   name   length      min    max start count    dmin   dmax unlim coord_dim \n",
       "  <chr> <chr>   <dbl>    <dbl>  <dbl> <int> <int>   <dbl>  <dbl> <lgl> <lgl>     \n",
       "1 D0    longi~    501       90 1.40e2     1   501  9.00e1 1.40e2 FALSE TRUE      \n",
       "2 D1    latit~    186      -12 6.50e0     1   186 -1.20e1 6.50e0 FALSE TRUE      \n",
       "3 D2    time        8  1043144 1.05e6     1     8  1.04e6 1.05e6 FALSE TRUE      "
      ]
     },
     "metadata": {},
     "output_type": "display_data"
    }
   ],
   "source": [
    "nc_filepath = '../data/Coursework-Support/era5.nc'\n",
    "\n",
    "nc_file = tidync(nc_filepath)\n",
    "\n",
    "nc_file"
   ]
  },
  {
   "cell_type": "markdown",
   "metadata": {},
   "source": [
    "<br>\n",
    "\n",
    "We can see that there are 3 dimemensions in the file, calling `hyper_dims` lets us inspect them in more detail.\n",
    "\n",
    "We can see that longitude, latitude and time are not 'unlimited', this means that the extent of the data is fixed. 'coord_dim' as True denotes that the dimension is being used is attached to the dataset, in this case they all are but think about examples where this maybe different (e.g. providing multiple versions of coordinates for different CRS')."
   ]
  },
  {
   "cell_type": "code",
   "execution_count": 3,
   "metadata": {},
   "outputs": [
    {
     "data": {
      "text/html": [
       "<table>\n",
       "<thead><tr><th scope=col>name</th><th scope=col>length</th><th scope=col>start</th><th scope=col>count</th><th scope=col>id</th><th scope=col>unlim</th><th scope=col>coord_dim</th></tr></thead>\n",
       "<tbody>\n",
       "\t<tr><td>longitude</td><td>501      </td><td>1        </td><td>501      </td><td>0        </td><td>FALSE    </td><td>TRUE     </td></tr>\n",
       "\t<tr><td>latitude </td><td>186      </td><td>1        </td><td>186      </td><td>1        </td><td>FALSE    </td><td>TRUE     </td></tr>\n",
       "\t<tr><td>time     </td><td>  8      </td><td>1        </td><td>  8      </td><td>2        </td><td>FALSE    </td><td>TRUE     </td></tr>\n",
       "</tbody>\n",
       "</table>\n"
      ],
      "text/latex": [
       "\\begin{tabular}{r|lllllll}\n",
       " name & length & start & count & id & unlim & coord\\_dim\\\\\n",
       "\\hline\n",
       "\t longitude & 501       & 1         & 501       & 0         & FALSE     & TRUE     \\\\\n",
       "\t latitude  & 186       & 1         & 186       & 1         & FALSE     & TRUE     \\\\\n",
       "\t time      &   8       & 1         &   8       & 2         & FALSE     & TRUE     \\\\\n",
       "\\end{tabular}\n"
      ],
      "text/markdown": [
       "\n",
       "| name | length | start | count | id | unlim | coord_dim |\n",
       "|---|---|---|---|---|---|---|\n",
       "| longitude | 501       | 1         | 501       | 0         | FALSE     | TRUE      |\n",
       "| latitude  | 186       | 1         | 186       | 1         | FALSE     | TRUE      |\n",
       "| time      |   8       | 1         |   8       | 2         | FALSE     | TRUE      |\n",
       "\n"
      ],
      "text/plain": [
       "  name      length start count id unlim coord_dim\n",
       "1 longitude 501    1     501   0  FALSE TRUE     \n",
       "2 latitude  186    1     186   1  FALSE TRUE     \n",
       "3 time        8    1       8   2  FALSE TRUE     "
      ]
     },
     "metadata": {},
     "output_type": "display_data"
    }
   ],
   "source": [
    "hyper_dims(nc_file)"
   ]
  },
  {
   "cell_type": "markdown",
   "metadata": {},
   "source": [
    "<br>\n",
    "\n",
    "We can see that there are 4 grids and that 3 of them are the dimensions we just explored, what's left over? - the variables. \n",
    "\n",
    "Here we can see that there are 3 variables, two for the u and v components of a wind vector, the other for surface solar radiation. From these we estimate solar and wind power production at different locations in Indonesia."
   ]
  },
  {
   "cell_type": "code",
   "execution_count": 32,
   "metadata": {},
   "outputs": [
    {
     "data": {
      "text/html": [
       "<table>\n",
       "<thead><tr><th scope=col>id</th><th scope=col>name</th><th scope=col>type</th><th scope=col>ndims</th><th scope=col>natts</th><th scope=col>dim_coord</th></tr></thead>\n",
       "<tbody>\n",
       "\t<tr><td>3       </td><td>u10     </td><td>NC_SHORT</td><td>3       </td><td>6       </td><td>FALSE   </td></tr>\n",
       "\t<tr><td>4       </td><td>v10     </td><td>NC_SHORT</td><td>3       </td><td>6       </td><td>FALSE   </td></tr>\n",
       "\t<tr><td>5       </td><td>ssrd    </td><td>NC_SHORT</td><td>3       </td><td>7       </td><td>FALSE   </td></tr>\n",
       "</tbody>\n",
       "</table>\n"
      ],
      "text/latex": [
       "\\begin{tabular}{r|llllll}\n",
       " id & name & type & ndims & natts & dim\\_coord\\\\\n",
       "\\hline\n",
       "\t 3          & u10        & NC\\_SHORT & 3          & 6          & FALSE     \\\\\n",
       "\t 4          & v10        & NC\\_SHORT & 3          & 6          & FALSE     \\\\\n",
       "\t 5          & ssrd       & NC\\_SHORT & 3          & 7          & FALSE     \\\\\n",
       "\\end{tabular}\n"
      ],
      "text/markdown": [
       "\n",
       "| id | name | type | ndims | natts | dim_coord |\n",
       "|---|---|---|---|---|---|\n",
       "| 3        | u10      | NC_SHORT | 3        | 6        | FALSE    |\n",
       "| 4        | v10      | NC_SHORT | 3        | 6        | FALSE    |\n",
       "| 5        | ssrd     | NC_SHORT | 3        | 7        | FALSE    |\n",
       "\n"
      ],
      "text/plain": [
       "  id name type     ndims natts dim_coord\n",
       "1 3  u10  NC_SHORT 3     6     FALSE    \n",
       "2 4  v10  NC_SHORT 3     6     FALSE    \n",
       "3 5  ssrd NC_SHORT 3     7     FALSE    "
      ]
     },
     "metadata": {},
     "output_type": "display_data"
    }
   ],
   "source": [
    "hyper_vars(nc_file)"
   ]
  },
  {
   "cell_type": "markdown",
   "metadata": {},
   "source": [
    "<br>\n",
    "\n",
    "This is all very useful but what about if we wanted to store additional, more general metadata about the dataset?\n",
    "\n",
    "Luckily NetCDFs allow us to store further information as 'attributes' to both the top-level of the file as well as for individual variables. By specifying `'NC_GLOBAL'` as the variable we can list only the attributes for the top-level of the file, this includes information such as when the file was downloaded."
   ]
  },
  {
   "cell_type": "code",
   "execution_count": 36,
   "metadata": {},
   "outputs": [
    {
     "data": {
      "text/html": [
       "<table>\n",
       "<thead><tr><th scope=col>id</th><th scope=col>name</th><th scope=col>variable</th><th scope=col>value</th></tr></thead>\n",
       "<tbody>\n",
       "\t<tr><td>0          </td><td>Conventions</td><td>NC_GLOBAL  </td><td>CF-1.6     </td></tr>\n",
       "\t<tr><td>1                                                                                                                                                                                                                                                                                                                 </td><td>history                                                                                                                                                                                                                                                                                                           </td><td>NC_GLOBAL                                                                                                                                                                                                                                                                                                         </td><td>2020-12-10 14:47:04 GMT by grib_to_netcdf-2.16.0: /opt/ecmwf/eccodes/bin/grib_to_netcdf -S param -o /cache/data0/adaptor.mars.internal-1607611614.7236085-5982-17-ac6b25d3-2c5a-4a80-8c51-bece0fdfbc32.nc /cache/tmp/ac6b25d3-2c5a-4a80-8c51-bece0fdfbc32-adaptor.mars.internal-1607611614.7241852-5982-5-tmp.grib</td></tr>\n",
       "</tbody>\n",
       "</table>\n"
      ],
      "text/latex": [
       "\\begin{tabular}{r|llll}\n",
       " id & name & variable & value\\\\\n",
       "\\hline\n",
       "\t 0           & Conventions & NC\\_GLOBAL & CF-1.6     \\\\\n",
       "\t 1                                                                                                                                                                                                                                                                                                                          & history                                                                                                                                                                                                                                                                                                                    & NC\\_GLOBAL                                                                                                                                                                                                                                                                                                                & 2020-12-10 14:47:04 GMT by grib\\_to\\_netcdf-2.16.0: /opt/ecmwf/eccodes/bin/grib\\_to\\_netcdf -S param -o /cache/data0/adaptor.mars.internal-1607611614.7236085-5982-17-ac6b25d3-2c5a-4a80-8c51-bece0fdfbc32.nc /cache/tmp/ac6b25d3-2c5a-4a80-8c51-bece0fdfbc32-adaptor.mars.internal-1607611614.7241852-5982-5-tmp.grib\\\\\n",
       "\\end{tabular}\n"
      ],
      "text/markdown": [
       "\n",
       "| id | name | variable | value |\n",
       "|---|---|---|---|\n",
       "| 0           | Conventions | NC_GLOBAL   | CF-1.6      |\n",
       "| 1                                                                                                                                                                                                                                                                                                                  | history                                                                                                                                                                                                                                                                                                            | NC_GLOBAL                                                                                                                                                                                                                                                                                                          | 2020-12-10 14:47:04 GMT by grib_to_netcdf-2.16.0: /opt/ecmwf/eccodes/bin/grib_to_netcdf -S param -o /cache/data0/adaptor.mars.internal-1607611614.7236085-5982-17-ac6b25d3-2c5a-4a80-8c51-bece0fdfbc32.nc /cache/tmp/ac6b25d3-2c5a-4a80-8c51-bece0fdfbc32-adaptor.mars.internal-1607611614.7241852-5982-5-tmp.grib |\n",
       "\n"
      ],
      "text/plain": [
       "  id name        variable \n",
       "1 0  Conventions NC_GLOBAL\n",
       "2 1  history     NC_GLOBAL\n",
       "  value                                                                                                                                                                                                                                                                                                             \n",
       "1 CF-1.6                                                                                                                                                                                                                                                                                                            \n",
       "2 2020-12-10 14:47:04 GMT by grib_to_netcdf-2.16.0: /opt/ecmwf/eccodes/bin/grib_to_netcdf -S param -o /cache/data0/adaptor.mars.internal-1607611614.7236085-5982-17-ac6b25d3-2c5a-4a80-8c51-bece0fdfbc32.nc /cache/tmp/ac6b25d3-2c5a-4a80-8c51-bece0fdfbc32-adaptor.mars.internal-1607611614.7241852-5982-5-tmp.grib"
      ]
     },
     "metadata": {},
     "output_type": "display_data"
    }
   ],
   "source": [
    "ncmeta::nc_atts(nc_filepath, 'NC_GLOBAL')"
   ]
  },
  {
   "cell_type": "markdown",
   "metadata": {},
   "source": [
    "<br>\n",
    "\n",
    "To access the attributes for a specific variable we just pass that variable's name to `nc_atts`. Doing this for `'u10'` provides us information such as the units and the value for missing values. \n",
    "\n",
    "The `scale_factor` and `add_offset` enable intelligent methods for compressing data, these are automatically applied to the data on loading and saving to redue the size of the stored data, you can find out more [here](https://www.unidata.ucar.edu/software/netcdf/workshops/2010/bestpractices/Packing.html)."
   ]
  },
  {
   "cell_type": "code",
   "execution_count": 37,
   "metadata": {},
   "outputs": [
    {
     "data": {
      "text/html": [
       "<table>\n",
       "<thead><tr><th scope=col>id</th><th scope=col>name</th><th scope=col>variable</th><th scope=col>value</th></tr></thead>\n",
       "<tbody>\n",
       "\t<tr><td>0            </td><td>scale_factor </td><td>u10          </td><td>0.0003157431 </td></tr>\n",
       "\t<tr><td>1            </td><td>add_offset   </td><td>u10          </td><td>1.074366     </td></tr>\n",
       "\t<tr><td>2            </td><td>_FillValue   </td><td>u10          </td><td>-32767       </td></tr>\n",
       "\t<tr><td>3            </td><td>missing_value</td><td>u10          </td><td>-32767       </td></tr>\n",
       "\t<tr><td>4            </td><td>units        </td><td>u10          </td><td>m s**-1      </td></tr>\n",
       "\t<tr><td>5                        </td><td>long_name                </td><td>u10                      </td><td>10 metre U wind component</td></tr>\n",
       "</tbody>\n",
       "</table>\n"
      ],
      "text/latex": [
       "\\begin{tabular}{r|llll}\n",
       " id & name & variable & value\\\\\n",
       "\\hline\n",
       "\t 0               & scale\\_factor  & u10             & 0.0003157431   \\\\\n",
       "\t 1               & add\\_offset    & u10             & 1.074366       \\\\\n",
       "\t 2               & \\_FillValue    & u10             & -32767         \\\\\n",
       "\t 3               & missing\\_value & u10             & -32767         \\\\\n",
       "\t 4             & units         & u10           & m s**-1      \\\\\n",
       "\t 5                         & long\\_name               & u10                       & 10 metre U wind component\\\\\n",
       "\\end{tabular}\n"
      ],
      "text/markdown": [
       "\n",
       "| id | name | variable | value |\n",
       "|---|---|---|---|\n",
       "| 0             | scale_factor  | u10           | 0.0003157431  |\n",
       "| 1             | add_offset    | u10           | 1.074366      |\n",
       "| 2             | _FillValue    | u10           | -32767        |\n",
       "| 3             | missing_value | u10           | -32767        |\n",
       "| 4             | units         | u10           | m s**-1       |\n",
       "| 5                         | long_name                 | u10                       | 10 metre U wind component |\n",
       "\n"
      ],
      "text/plain": [
       "  id name          variable value                    \n",
       "1 0  scale_factor  u10      0.0003157431             \n",
       "2 1  add_offset    u10      1.074366                 \n",
       "3 2  _FillValue    u10      -32767                   \n",
       "4 3  missing_value u10      -32767                   \n",
       "5 4  units         u10      m s**-1                  \n",
       "6 5  long_name     u10      10 metre U wind component"
      ]
     },
     "metadata": {},
     "output_type": "display_data"
    }
   ],
   "source": [
    "ncmeta::nc_atts(nc_filepath, 'u10')"
   ]
  },
  {
   "cell_type": "markdown",
   "metadata": {},
   "source": [
    "<br>\n",
    "\n",
    "Let's dig a little deeper into the dimensions we have, what does 'time' look like? \n",
    "\n",
    "Before we can access the values we need to activate the correct grid, which currently is the one containing 'u10', 'v10', and 'ssrd'. We'll switch over to 'time' by activating it, then extract the values by calling `hyper_tibble`."
   ]
  },
  {
   "cell_type": "code",
   "execution_count": 71,
   "metadata": {},
   "outputs": [
    {
     "data": {
      "text/html": [
       "<ol class=list-inline>\n",
       "\t<li>1043144</li>\n",
       "\t<li>1043148</li>\n",
       "\t<li>1043152</li>\n",
       "\t<li>1043156</li>\n",
       "\t<li>1047488</li>\n",
       "\t<li>1047492</li>\n",
       "\t<li>1047496</li>\n",
       "\t<li>1047500</li>\n",
       "</ol>\n"
      ],
      "text/latex": [
       "\\begin{enumerate*}\n",
       "\\item 1043144\n",
       "\\item 1043148\n",
       "\\item 1043152\n",
       "\\item 1043156\n",
       "\\item 1047488\n",
       "\\item 1047492\n",
       "\\item 1047496\n",
       "\\item 1047500\n",
       "\\end{enumerate*}\n"
      ],
      "text/markdown": [
       "1. 1043144\n",
       "2. 1043148\n",
       "3. 1043152\n",
       "4. 1043156\n",
       "5. 1047488\n",
       "6. 1047492\n",
       "7. 1047496\n",
       "8. 1047500\n",
       "\n",
       "\n"
      ],
      "text/plain": [
       "[1] 1043144 1043148 1043152 1043156 1047488 1047492 1047496 1047500"
      ]
     },
     "metadata": {},
     "output_type": "display_data"
    }
   ],
   "source": [
    "times <- (nc_file %>% activate(time) %>% hyper_tibble)$time\n",
    "\n",
    "times"
   ]
  },
  {
   "cell_type": "markdown",
   "metadata": {},
   "source": [
    "<br>\n",
    "\n",
    "Hmm these don't like like any dates we're used to working with, what's going on?\n",
    "\n",
    "Let's inspect the attributes of the time variable to find out more."
   ]
  },
  {
   "cell_type": "code",
   "execution_count": 51,
   "metadata": {},
   "outputs": [
    {
     "data": {
      "text/html": [
       "<table>\n",
       "<thead><tr><th scope=col>id</th><th scope=col>name</th><th scope=col>variable</th><th scope=col>value</th></tr></thead>\n",
       "<tbody>\n",
       "\t<tr><td>0                                </td><td>units                            </td><td>time                             </td><td>hours since 1900-01-01 00:00:00.0</td></tr>\n",
       "\t<tr><td>1        </td><td>long_name</td><td>time     </td><td>time     </td></tr>\n",
       "\t<tr><td>2        </td><td>calendar </td><td>time     </td><td>gregorian</td></tr>\n",
       "</tbody>\n",
       "</table>\n"
      ],
      "text/latex": [
       "\\begin{tabular}{r|llll}\n",
       " id & name & variable & value\\\\\n",
       "\\hline\n",
       "\t 0                                 & units                             & time                              & hours since 1900-01-01 00:00:00.0\\\\\n",
       "\t 1           & long\\_name & time        & time       \\\\\n",
       "\t 2         & calendar  & time      & gregorian\\\\\n",
       "\\end{tabular}\n"
      ],
      "text/markdown": [
       "\n",
       "| id | name | variable | value |\n",
       "|---|---|---|---|\n",
       "| 0                                 | units                             | time                              | hours since 1900-01-01 00:00:00.0 |\n",
       "| 1         | long_name | time      | time      |\n",
       "| 2         | calendar  | time      | gregorian |\n",
       "\n"
      ],
      "text/plain": [
       "  id name      variable value                            \n",
       "1 0  units     time     hours since 1900-01-01 00:00:00.0\n",
       "2 1  long_name time     time                             \n",
       "3 2  calendar  time     gregorian                        "
      ]
     },
     "metadata": {},
     "output_type": "display_data"
    }
   ],
   "source": [
    "ncmeta::nc_atts(nc_filepath, 'time')"
   ]
  },
  {
   "cell_type": "markdown",
   "metadata": {},
   "source": [
    "<br>\n",
    "\n",
    "Lets create a function that maps from the time dimension to the relevant date string.\n",
    "\n",
    "We can now see that we have data for 4 different hours of the day, from two separate days in the year."
   ]
  },
  {
   "cell_type": "code",
   "execution_count": 69,
   "metadata": {},
   "outputs": [
    {
     "data": {
      "text/plain": [
       "[1] \"2019-01-01 08:00:00 UTC\" \"2019-01-01 12:00:00 UTC\"\n",
       "[3] \"2019-01-01 16:00:00 UTC\" \"2019-01-01 20:00:00 UTC\"\n",
       "[5] \"2019-07-01 08:00:00 UTC\" \"2019-07-01 12:00:00 UTC\"\n",
       "[7] \"2019-07-01 16:00:00 UTC\" \"2019-07-01 20:00:00 UTC\""
      ]
     },
     "metadata": {},
     "output_type": "display_data"
    }
   ],
   "source": [
    "hours_to_datetime <- function(hour) {\n",
    "    start_date <- ymd('1900-01-01')\n",
    "    datetime <- start_date + dhours(hour)\n",
    "    return(datetime)\n",
    "}\n",
    "\n",
    "datetime <- hours_to_datetime(times)\n",
    "\n",
    "datetime"
   ]
  },
  {
   "cell_type": "markdown",
   "metadata": {},
   "source": [
    "<br>\n",
    "\n",
    "Now we'll start looking at the actual data, to make things easier lets take a slice of it, filtering for only the first hour we have data for. To do this we can use the `hyper_filter` function which will filter over multiple dimensions if passed. We also have to make sure to reactivate the relevant data grid, in this case the solar radiation, using `activate`. Finally we convert the tinync object into a hyper-array using `hyper_array`."
   ]
  },
  {
   "cell_type": "code",
   "execution_count": 142,
   "metadata": {},
   "outputs": [
    {
     "data": {
      "text/plain": [
       "Class: tidync_data (list of tidync data arrays)\n",
       "Variables (1): 'ssrd'\n",
       "Dimension (2): longitude,latitude,time (501, 186)\n",
       "Source: C:/Users/Spatial/Downloads/ESDA-Spatial-master/ESDA-Spatial-master/tutorials/era5.nc"
      ]
     },
     "metadata": {},
     "output_type": "display_data"
    }
   ],
   "source": [
    "radiation_slice <- nc_file %>% \n",
    "                    activate(ssrd) %>% \n",
    "                    hyper_filter(time=time<1043145) %>% \n",
    "                    hyper_array\n",
    "\n",
    "radiation_slice"
   ]
  },
  {
   "cell_type": "markdown",
   "metadata": {},
   "source": [
    "<br>\n",
    "\n",
    "We're now in a position where we can start visualising the data!"
   ]
  },
  {
   "cell_type": "code",
   "execution_count": 152,
   "metadata": {},
   "outputs": [
    {
     "data": {
      "image/png": "[encoded data removed]",
      "text/plain": [
       "plot without title"
      ]
     },
     "metadata": {},
     "output_type": "display_data"
    }
   ],
   "source": [
    "image(radiation_slice[[1]], useRaster=TRUE)"
   ]
  },
  {
   "cell_type": "markdown",
   "metadata": {},
   "source": [
    "<br>\n",
    "\n",
    "Unfortunately the plot isn't particularly helpful as its both oriented incorrectly and the x/y ratio is wrong.\n",
    "\n",
    "Digging a little deeper we can see that the latitude values descend (from a higher to lower value) as expected, it is the image function that reverses them."
   ]
  },
  {
   "cell_type": "code",
   "execution_count": 162,
   "metadata": {},
   "outputs": [
    {
     "data": {
      "text/html": [
       "<ol class=list-inline>\n",
       "\t<li>6.5</li>\n",
       "\t<li>6.40000009536743</li>\n",
       "\t<li>6.30000019073486</li>\n",
       "\t<li>6.19999980926514</li>\n",
       "\t<li>6.09999990463257</li>\n",
       "</ol>\n"
      ],
      "text/latex": [
       "\\begin{enumerate*}\n",
       "\\item 6.5\n",
       "\\item 6.40000009536743\n",
       "\\item 6.30000019073486\n",
       "\\item 6.19999980926514\n",
       "\\item 6.09999990463257\n",
       "\\end{enumerate*}\n"
      ],
      "text/markdown": [
       "1. 6.5\n",
       "2. 6.40000009536743\n",
       "3. 6.30000019073486\n",
       "4. 6.19999980926514\n",
       "5. 6.09999990463257\n",
       "\n",
       "\n"
      ],
      "text/plain": [
       "[1] 6.5 6.4 6.3 6.2 6.1"
      ]
     },
     "metadata": {},
     "output_type": "display_data"
    }
   ],
   "source": [
    "longitudes = (nc_file %>% activate(longitude) %>% hyper_tibble)$longitude\n",
    "latitudes = (nc_file %>% activate(latitude) %>% hyper_tibble)$latitude\n",
    "\n",
    "latitudes[1:5]"
   ]
  },
  {
   "cell_type": "markdown",
   "metadata": {},
   "source": [
    "<br>\n",
    "\n",
    "We'll create a new variable where we flip the data matrix in the y direction.\n",
    "\n",
    "We'll also add a value for `asp` which is an abbreviation of aspect ratio, if we provide the lat/lon ratio we can achieve a more realistic visualisation."
   ]
  },
  {
   "cell_type": "code",
   "execution_count": 175,
   "metadata": {},
   "outputs": [
    {
     "data": {
      "image/png": "[encoded data removed]",
      "text/plain": [
       "plot without title"
      ]
     },
     "metadata": {},
     "output_type": "display_data"
    }
   ],
   "source": [
    "# We'll reverse the matrix\n",
    "radiation_matrix <- radiation_slice[[1]]\n",
    "radiation_matrix <- radiation_matrix[,length(latitudes):1]\n",
    "\n",
    "# And also the latitudes values\n",
    "latitudes = (nc_file %>% activate(latitude) %>% hyper_tibble)$latitude\n",
    "latitudes <- latitudes[length(latitudes):1]\n",
    "\n",
    "# Calculate the lat/lon ratio\n",
    "lat_lon_ratio = length(latitudes)/length(longitudes)\n",
    "\n",
    "# And visualise them\n",
    "image(radiation_matrix, asp=lat_lon_ratio)"
   ]
  },
  {
   "cell_type": "markdown",
   "metadata": {},
   "source": [
    "<br>\n",
    "\n",
    "Let's identify the coordinates of the maximum value"
   ]
  },
  {
   "cell_type": "code",
   "execution_count": 208,
   "metadata": {},
   "outputs": [
    {
     "data": {
      "text/html": [
       "<table>\n",
       "<thead><tr><th scope=col>row</th><th scope=col>col</th></tr></thead>\n",
       "<tbody>\n",
       "\t<tr><td>378</td><td>113</td></tr>\n",
       "</tbody>\n",
       "</table>\n"
      ],
      "text/latex": [
       "\\begin{tabular}{ll}\n",
       " row & col\\\\\n",
       "\\hline\n",
       "\t 378 & 113\\\\\n",
       "\\end{tabular}\n"
      ],
      "text/markdown": [
       "\n",
       "| row | col |\n",
       "|---|---|\n",
       "| 378 | 113 |\n",
       "\n"
      ],
      "text/plain": [
       "     row col\n",
       "[1,] 378 113"
      ]
     },
     "metadata": {},
     "output_type": "display_data"
    }
   ],
   "source": [
    "max_rad <- max(radiation_matrix, na.rm=TRUE)\n",
    "max_rad_idx <- which(radiation_matrix == max_rad, arr.ind=TRUE)\n",
    "\n",
    "max_rad_idx"
   ]
  },
  {
   "cell_type": "markdown",
   "metadata": {},
   "source": [
    "<br>\n",
    "\n",
    "We can also convert them into longitude and latitude, from this we can determine that at this specific time the maximum solar radiation falling on indonesia was on the island of Bacan."
   ]
  },
  {
   "cell_type": "code",
   "execution_count": 209,
   "metadata": {},
   "outputs": [
    {
     "name": "stdout",
     "output_type": "stream",
     "text": [
      "[1] 127.7  -0.8\n"
     ]
    }
   ],
   "source": [
    "max_lon <- longitudes[max_rad_idx[1]]\n",
    "max_lat <- latitudes[max_rad_idx[2]]\n",
    "\n",
    "print(c(max_lon, max_lat))"
   ]
  },
  {
   "cell_type": "markdown",
   "metadata": {},
   "source": [
    "<br>\n",
    "\n",
    "#### Questions\n",
    "\n",
    "Identify the location with the lowest solar radiation"
   ]
  },
  {
   "cell_type": "code",
   "execution_count": null,
   "metadata": {},
   "outputs": [],
   "source": [
    "# "
   ]
  },
  {
   "cell_type": "markdown",
   "metadata": {},
   "source": [
    "<br>\n",
    "\n",
    "### Solar Radiation to Power Conversion\n",
    "\n",
    "Let's convert from solar radiation to solar power, we'll use the standard conversion equation (further details in [Filik et al](https://www.e3s-conferences.org/articles/e3sconf/pdf/2017/10/e3sconf_asee2017_00046.pdf)).\n",
    "\n",
    "$$E(t) = A.r(t).g(t).p(t)$$\n",
    "\n",
    "* $A$: Total solar panel area in $m^{2}$\n",
    "* $r$: Panel efficiency (yield) parameter\n",
    "* $G$: Solar radiation on tilted panels\n",
    "* $p$: Performance ratio of the overall system\n",
    "\n",
    "We'll base our calculations on a 10 $m^{2}$ solar panel with 17.5% efficiency and a performace ratio of 60%. \n",
    "\n",
    "Inspecting the attributes of the solar radiation grid tells us the units are in joules per $m^{2}$, assuming that the solar radiation stays constant for the entire hour we can view the units in terms of watt-hours which will make calculations easier."
   ]
  },
  {
   "cell_type": "code",
   "execution_count": 223,
   "metadata": {},
   "outputs": [
    {
     "data": {
      "text/html": [
       "<table>\n",
       "<thead><tr><th scope=col>id</th><th scope=col>name</th><th scope=col>variable</th><th scope=col>value</th></tr></thead>\n",
       "<tbody>\n",
       "\t<tr><td>0            </td><td>scale_factor </td><td>ssrd         </td><td>336.1979     </td></tr>\n",
       "\t<tr><td>1            </td><td>add_offset   </td><td>ssrd         </td><td>12895679     </td></tr>\n",
       "\t<tr><td>2            </td><td>_FillValue   </td><td>ssrd         </td><td>-32767       </td></tr>\n",
       "\t<tr><td>3            </td><td>missing_value</td><td>ssrd         </td><td>-32767       </td></tr>\n",
       "\t<tr><td>4            </td><td>units        </td><td>ssrd         </td><td>J m**-2      </td></tr>\n",
       "\t<tr><td>5                                </td><td>long_name                        </td><td>ssrd                             </td><td>Surface solar radiation downwards</td></tr>\n",
       "\t<tr><td>6                                        </td><td>standard_name                            </td><td>ssrd                                     </td><td>surface_downwelling_shortwave_flux_in_air</td></tr>\n",
       "</tbody>\n",
       "</table>\n"
      ],
      "text/latex": [
       "\\begin{tabular}{r|llll}\n",
       " id & name & variable & value\\\\\n",
       "\\hline\n",
       "\t 0               & scale\\_factor  & ssrd            & 336.1979       \\\\\n",
       "\t 1               & add\\_offset    & ssrd            & 12895679       \\\\\n",
       "\t 2               & \\_FillValue    & ssrd            & -32767         \\\\\n",
       "\t 3               & missing\\_value & ssrd            & -32767         \\\\\n",
       "\t 4             & units         & ssrd          & J m**-2      \\\\\n",
       "\t 5                                 & long\\_name                       & ssrd                              & Surface solar radiation downwards\\\\\n",
       "\t 6                                                   & standard\\_name                                     & ssrd                                                & surface\\_downwelling\\_shortwave\\_flux\\_in\\_air\\\\\n",
       "\\end{tabular}\n"
      ],
      "text/markdown": [
       "\n",
       "| id | name | variable | value |\n",
       "|---|---|---|---|\n",
       "| 0             | scale_factor  | ssrd          | 336.1979      |\n",
       "| 1             | add_offset    | ssrd          | 12895679      |\n",
       "| 2             | _FillValue    | ssrd          | -32767        |\n",
       "| 3             | missing_value | ssrd          | -32767        |\n",
       "| 4             | units         | ssrd          | J m**-2       |\n",
       "| 5                                 | long_name                         | ssrd                              | Surface solar radiation downwards |\n",
       "| 6                                         | standard_name                             | ssrd                                      | surface_downwelling_shortwave_flux_in_air |\n",
       "\n"
      ],
      "text/plain": [
       "  id name          variable value                                    \n",
       "1 0  scale_factor  ssrd     336.1979                                 \n",
       "2 1  add_offset    ssrd     12895679                                 \n",
       "3 2  _FillValue    ssrd     -32767                                   \n",
       "4 3  missing_value ssrd     -32767                                   \n",
       "5 4  units         ssrd     J m**-2                                  \n",
       "6 5  long_name     ssrd     Surface solar radiation downwards        \n",
       "7 6  standard_name ssrd     surface_downwelling_shortwave_flux_in_air"
      ]
     },
     "metadata": {},
     "output_type": "display_data"
    }
   ],
   "source": [
    "ncmeta::nc_atts(nc_filepath, 'ssrd')"
   ]
  },
  {
   "cell_type": "markdown",
   "metadata": {},
   "source": [
    "<br>\n",
    "\n",
    "We'll create a conversion function that calculates the kWh output for a theoretical solar panel, in this case using data from between 8 and 9 AM at the location with highest solar radiation."
   ]
  },
  {
   "cell_type": "code",
   "execution_count": 212,
   "metadata": {},
   "outputs": [
    {
     "data": {
      "text/html": [
       "6.02215665332479"
      ],
      "text/latex": [
       "6.02215665332479"
      ],
      "text/markdown": [
       "6.02215665332479"
      ],
      "text/plain": [
       "[1] 6.022157"
      ]
     },
     "metadata": {},
     "output_type": "display_data"
    }
   ],
   "source": [
    "radiation_to_power <- function(radiation, area=10, yield=0.175, pr=0.6, hours=1){\n",
    "    kWh <- radiation * area * yield * pr * (hours/3600) / 1000\n",
    "    return(kWh)\n",
    "}\n",
    "\n",
    "max_kWh <- radiation_to_power(max_rad)\n",
    "\n",
    "max_kWh"
   ]
  },
  {
   "cell_type": "markdown",
   "metadata": {},
   "source": [
    "<br>\n",
    "\n",
    "#### Questions\n",
    "\n",
    "Calculate the difference between this and the location with lowest solar radiation"
   ]
  },
  {
   "cell_type": "code",
   "execution_count": null,
   "metadata": {},
   "outputs": [],
   "source": [
    "# "
   ]
  },
  {
   "cell_type": "markdown",
   "metadata": {},
   "source": [
    "<br>\n",
    "\n",
    "### Wind Speed to Power Conversion\n",
    "\n",
    "Wind vectors are a useful way to communicate speed and direction, in particular they allow both direction to be expressed in terms of a cyclical variable (unlike degrees which has a discontinuity) - this is often a more useful feature for ML models. However in vector form we cant convert to power output, for that we'll have to calculate the wind speed as an intermediate.\n",
    "\n",
    "To calculate u and v from wind speed and direction we can use:\n",
    "* $u = speed \\times cos(direction)$\n",
    "* $v = speed \\times sin(direction)$\n",
    "\n",
    "To convert back to wind speed we can use:\n",
    "* $speed = \\sqrt{u^{2}+v^{2}}$\n",
    "\n",
    "<br>\n",
    "\n",
    "We'll calculate wind speed and then visualise it"
   ]
  },
  {
   "cell_type": "code",
   "execution_count": 229,
   "metadata": {},
   "outputs": [
    {
     "data": {
      "image/png": "[encoded data removed]",
      "text/plain": [
       "plot without title"
      ]
     },
     "metadata": {},
     "output_type": "display_data"
    }
   ],
   "source": [
    "u_slice <- nc_file %>% \n",
    "            activate(u10) %>% \n",
    "            hyper_filter(time=time<1043145) %>% \n",
    "            hyper_array\n",
    "\n",
    "v_slice <- nc_file %>% \n",
    "            activate(v10) %>% \n",
    "            hyper_filter(time=time<1043145) %>% \n",
    "            hyper_array\n",
    "\n",
    "u_matrix <- u_slice[[1]]\n",
    "v_matrix <- v_slice[[1]]\n",
    "\n",
    "speed_matrix <- sqrt(u_matrix**2 + v_matrix**2)\n",
    "speed_matrix <- speed_matrix[,length(latitudes):1]\n",
    "\n",
    "image(speed_matrix, asp=lat_lon_ratio)"
   ]
  },
  {
   "cell_type": "markdown",
   "metadata": {},
   "source": [
    "<br>\n",
    "\n",
    "Again we'll use the maximum value of the resource as an example"
   ]
  },
  {
   "cell_type": "code",
   "execution_count": 230,
   "metadata": {},
   "outputs": [
    {
     "data": {
      "text/html": [
       "11.7539165645299"
      ],
      "text/latex": [
       "11.7539165645299"
      ],
      "text/markdown": [
       "11.7539165645299"
      ],
      "text/plain": [
       "[1] 11.75392"
      ]
     },
     "metadata": {},
     "output_type": "display_data"
    }
   ],
   "source": [
    "max_speed <- max(speed_matrix, na.rm=TRUE)\n",
    "\n",
    "max_speed"
   ]
  },
  {
   "cell_type": "markdown",
   "metadata": {},
   "source": [
    "<br>\n",
    "\n",
    "We'll use the Helman equation to extrapolate from 10m up to 70m which is a more common height for wind turbines, to do this we'll use an estimated value for the hellman exponent - 1/7. Helman Equation:\n",
    "\n",
    "<b>speed at turbine = data speed x (turbine height/data height)^hellman exponent</b>\n",
    "\n",
    "If you are able to obtain surface roughness data for indonesia you can calculate a more accurate helman exponent using:  \n",
    "\n",
    "<b>hellman exponent = 1 / ln(turbine height/roughness)</b>"
   ]
  },
  {
   "cell_type": "code",
   "execution_count": 232,
   "metadata": {},
   "outputs": [
    {
     "data": {
      "text/html": [
       "15.520685364153"
      ],
      "text/latex": [
       "15.520685364153"
      ],
      "text/markdown": [
       "15.520685364153"
      ],
      "text/plain": [
       "[1] 15.52069"
      ]
     },
     "metadata": {},
     "output_type": "display_data"
    }
   ],
   "source": [
    "calc_turbine_speed <- function(speed, turbine_height=70, data_height=10, hellman_exponent=1/7){\n",
    "    turbine_speed <-  speed*(turbine_height/data_height)^hellman_exponent\n",
    "    return(turbine_speed)\n",
    "}\n",
    "\n",
    "turbine_speed <- calc_turbine_speed(max_speed)\n",
    "\n",
    "turbine_speed"
   ]
  },
  {
   "cell_type": "markdown",
   "metadata": {},
   "source": [
    "<br>\n",
    "\n",
    "We now need to convert the wind speed into wind power, to do so we can use a power curve. In this example we'll use the power curve of the Gamsea G114, the turbine used in the Indonesian Sidrap wind farm. The data used for this can be found [here](https://www.thewindpower.net/turbine_en_599_gamesa_g114-2500.php)."
   ]
  },
  {
   "cell_type": "code",
   "execution_count": 262,
   "metadata": {},
   "outputs": [
    {
     "data": {
      "text/html": [
       "<strong>16:</strong> 2500"
      ],
      "text/latex": [
       "\\textbf{16:} 2500"
      ],
      "text/markdown": [
       "**16:** 2500"
      ],
      "text/plain": [
       "  16 \n",
       "2500 "
      ]
     },
     "metadata": {},
     "output_type": "display_data"
    }
   ],
   "source": [
    "speed_to_power <- function(speed){\n",
    "    pc <- c(0, 0, 0, 0, 0, 40, 102, 160, 257, 355, 471, 605, 750, 972, 1194, 1455, 1713, 1970, 2227, 2380, 2465, 2495, 2500, 2500, 2500, 2500, 2500, 2500, 2500, 2500, 2500, 2500, 2500, 2500, 2500, 2500, 2500, 2500, 2500, 2500, 2500, 2500, 2500, 2500, 2500, 2460, 2400, 2335, 2250)\n",
    "    names(pc) <- seq(from=0, to=24, by=0.5)\n",
    "    power <- pc[toString(round(speed, 0))]\n",
    "    return(power)\n",
    "}\n",
    "\n",
    "power <- speed_to_power(turbine_speed)\n",
    "\n",
    "power"
   ]
  },
  {
   "cell_type": "markdown",
   "metadata": {},
   "source": [
    "<br>\n",
    "\n",
    "#### Questions\n",
    "\n",
    "Now try and calculate another layer that shows wind direction, how could this be useful in your analysis?\n",
    "For additional reading please look [here](http://colaweb.gmu.edu/dev/clim301/lectures/wind/wind-uv). You should also try to calculate power output for an offshore wind farm using a power curve of an offshore turbine."
   ]
  },
  {
   "cell_type": "code",
   "execution_count": null,
   "metadata": {},
   "outputs": [],
   "source": [
    "# "
   ]
  },
  {
   "cell_type": "markdown",
   "metadata": {},
   "source": [
    "<br>\n",
    "\n",
    "### Financial Modelling\n",
    "\n",
    "Now that we can calcuate the power output for solar and wind farms we'll do some financial modelling with them.\n",
    "\n",
    "First we'll calculate the annual revenue of the wind farm, we'll use the number of turbines and capacity from the Sidrap wind farm. We'll assume a capacity factor of 30%, lifetime of 25 years and electricity price of $0.07/kWh."
   ]
  },
  {
   "cell_type": "code",
   "execution_count": 298,
   "metadata": {},
   "outputs": [
    {
     "data": {
      "text/html": [
       "13797000"
      ],
      "text/latex": [
       "13797000"
      ],
      "text/markdown": [
       "13797000"
      ],
      "text/plain": [
       "[1] 13797000"
      ]
     },
     "metadata": {},
     "output_type": "display_data"
    }
   ],
   "source": [
    "turbine_capacity <- 2.5\n",
    "num_turbines <- 30\n",
    "capacity_factor <- 0.3\n",
    "dollars_per_kWh <- 0.07\n",
    "lifetime_yrs <- 25\n",
    "\n",
    "kWh <- turbine_capacity * num_turbines * capacity_factor * 1000 * 24 * 365\n",
    "annual_revenue <-dollars_per_kWh  * kWh\n",
    "\n",
    "annual_revenue"
   ]
  },
  {
   "cell_type": "markdown",
   "metadata": {},
   "source": [
    "<br>\n",
    "\n",
    "We can then use this to calcute the Net Present Value (NPV).\n",
    "\n",
    "Here we'll assume the Sidrap capital expenditure (CAPEX) of 150,000,000. We'll assume an operating cost of 0 although in reality this would cost something. We'll assume a discount rate of 5%."
   ]
  },
  {
   "cell_type": "code",
   "execution_count": 299,
   "metadata": {},
   "outputs": [
    {
     "data": {
      "text/html": [
       "51597010"
      ],
      "text/latex": [
       "51597010"
      ],
      "text/markdown": [
       "51597010"
      ],
      "text/plain": [
       "[1] 51597010"
      ]
     },
     "metadata": {},
     "output_type": "display_data"
    }
   ],
   "source": [
    "calc_NPV <- function(annual_revenue, i=0.05, lifetime_yrs=25, CAPEX=150000000, OPEX=0){\n",
    "    costs <- rep(OPEX, lifetime_yrs)\n",
    "    costs[1] <- costs[1]  + CAPEX\n",
    "    revenue <- rep(annual_revenue, lifetime_yrs)\n",
    "\n",
    "    t <- seq(1, lifetime_yrs, 1)\n",
    "    NPV <- sum((revenue - costs)/(1 + i)**t)\n",
    "\n",
    "    return(round(NPV, 0))\n",
    "}\n",
    "\n",
    "calc_NPV(annual_revenue)"
   ]
  },
  {
   "cell_type": "markdown",
   "metadata": {},
   "source": [
    "<br>\n",
    "\n",
    "#### Questions\n",
    "\n",
    "Using the assumptions provided in the coursework instructions you should try to estimate the net present value of an ammonia plant. Assume a lifetime of 25 years."
   ]
  },
  {
   "cell_type": "code",
   "execution_count": null,
   "metadata": {},
   "outputs": [],
   "source": [
    "# "
   ]
  }
 ],
 "metadata": {
  "kernelspec": {
   "display_name": "ESDA-Spatial",
   "language": "R",
   "name": "ir"
  },
  "language_info": {
   "codemirror_mode": "r",
   "file_extension": ".r",
   "mimetype": "text/x-r-source",
   "name": "R",
   "pygments_lexer": "r",
   "version": "3.6.1"
  }
 },
 "nbformat": 4,
 "nbformat_minor": 4
}
